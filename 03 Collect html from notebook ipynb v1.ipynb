{
 "cells": [
  {
   "cell_type": "markdown",
   "id": "6757b9c3",
   "metadata": {},
   "source": [
    "### SAP Machine Learning Embedding in OpenAI - step 03\n",
    "##### Author: Sergiu Iatco. May, 2023\n",
    "https://people.sap.com/iatco.sergiu <br>\n",
    "https://www.linkedin.com/in/sergiuiatco/ <br>"
   ]
  },
  {
   "cell_type": "code",
   "execution_count": 1,
   "id": "633336e6",
   "metadata": {},
   "outputs": [],
   "source": [
    "import urllib.request\n",
    "import os\n",
    "import chardet\n",
    "from nbconvert import HTMLExporter\n",
    "import nbformat\n",
    "import nbconvert\n",
    "import pathlib\n",
    "\n",
    "class collect_ipynb():\n",
    "    def __init__(self):\n",
    "        pass\n",
    "    \n",
    "    def ipynb_to_html(self, ipynb_file, path_save = None, encoding = None, content = False, verbose = 0):\n",
    "        # verbose: 0 - Completion, 1 - Source & Destination\n",
    "        if encoding==None:\n",
    "            encoding = 'utf-8'\n",
    "            \n",
    "        elif ecnoding=='detect':\n",
    "            with open(ipynb_file, 'rb') as f:\n",
    "                nb_contents = f.read()\n",
    "\n",
    "            encoding = chardet.detect(nb_contents)['encoding']\n",
    "\n",
    "        # read nbformat\n",
    "        with open(ipynb_file, encoding=encoding) as f:\n",
    "            nb_content = nbformat.read(f, as_version=4)\n",
    "\n",
    "        html_exporter = HTMLExporter()\n",
    "        #     html_exporter = HTMLExporter(template_name='classic')\n",
    "        (body, resources) = html_exporter.from_notebook_node(nb_content)\n",
    "\n",
    "        filename_path = os.path.split(ipynb_file)[0] \n",
    "        filename_with_ext = os.path.split(ipynb_file)[1]  #filename with ext & w/o path\n",
    "        filename_ext_html = os.path.splitext(filename_with_ext)[0] + '.html'\n",
    "        \n",
    "        if path_save!= None:\n",
    "            html_file = os.path.join(path_save, filename_path, filename_ext_html)\n",
    "            \n",
    "            path_save_subdir_source = os.path.split(html_file)[0] # file path\n",
    "            \n",
    "            if not os.path.exists(path_save_subdir_source):\n",
    "                os.makedirs(path_save_subdir_source)\n",
    "        else:\n",
    "            html_file = os.path.join(filename_path, filename_ext_html)\n",
    "    \n",
    "        with open(html_file, 'w', encoding=encoding) as f:\n",
    "            f.write(body)\n",
    "\n",
    "        if verbose == 1:\n",
    "            print(f\"Source     : {ipynb_file}\")\n",
    "            print(f\"Destination: {html_file}\")\n",
    "            \n",
    "        if os.path.exists(html_file):\n",
    "            print(\"File conversion complete and saved!\")\n",
    "        else:\n",
    "            print(\"File was not saved!\")\n",
    "        \n",
    "        if content == True:\n",
    "            return html_file\n",
    "\n",
    "    def ipynb_path_to_html(self, repo_path = None, path_save = None, encoding = None, verbose = 0):\n",
    "        # verbose: 0 - Complete message | 1 - Source file & Saved file\n",
    "\n",
    "        if repo_path==None:\n",
    "            repo_path = ''\n",
    "\n",
    "        name_filter = \"**/*.ipynb\"\n",
    "        repo_path_lib = pathlib.Path(repo_path)\n",
    "        document_files = list(repo_path_lib.glob(name_filter))\n",
    "        \n",
    "        for ipynb_file in document_files:\n",
    "            self.ipynb_to_html(ipynb_file, path_save = path_save, encoding = encoding, content = False, verbose = verbose)\n",
    "        \n",
    "        print(f\"List conversion complete! Files: {len(document_files)}\")\n",
    "    "
   ]
  },
  {
   "cell_type": "code",
   "execution_count": 2,
   "id": "6b812416",
   "metadata": {},
   "outputs": [],
   "source": [
    "# # Example 1 read current folder | save current folder\n",
    "# ci = collect_ipynb()\n",
    "# ipynb_file =\"example notebook v1.ipynb\"\n",
    "# ci.ipynb_to_html(ipynb_file)"
   ]
  },
  {
   "cell_type": "code",
   "execution_count": 3,
   "id": "0930607e",
   "metadata": {},
   "outputs": [],
   "source": [
    "# # Example 2 read current folder | save path_save\n",
    "# ci = collect_ipynb()\n",
    "# ipynb_file =\"example notebook v1.ipynb\"\n",
    "# path_save = 'html_files2'\n",
    "# ci.ipynb_to_html(ipynb_file, path_save = path_save)"
   ]
  },
  {
   "cell_type": "code",
   "execution_count": 4,
   "id": "5dc773c4",
   "metadata": {},
   "outputs": [],
   "source": [
    "# # Example 3 read file with folder | save same folder\n",
    "# ci = collect_ipynb()\n",
    "# ipynb_file =\"example notebook v1.ipynb\"\n",
    "# ipynb_source = \"ipynb_source_test/\"\n",
    "# ipynb_file = ipynb_source + ipynb_file\n",
    "# # path_save = 'html_files'\n",
    "# # display(ipynb_file)\n",
    "# # display(path_save)\n",
    "# ci.ipynb_to_html(ipynb_file, verbose = 1)\n",
    "# # ci.ipynb_to_html(ipynb_file, path_save = path_save)"
   ]
  },
  {
   "cell_type": "code",
   "execution_count": 5,
   "id": "72000f05",
   "metadata": {},
   "outputs": [],
   "source": [
    "# # Example 4 read file with folder | save path_save subdir\n",
    "# ci = collect_ipynb()\n",
    "# ipynb_file =\"example notebook v1.ipynb\"\n",
    "# ipynb_source = \"ipynb_source_test/\"\n",
    "# ipynb_file = ipynb_source + ipynb_file\n",
    "# display(ipynb_file)\n",
    "# path_save = 'html_files_test'\n",
    "# display(path_save)\n",
    "# display(os.path.splitext(ipynb_file))\n",
    "# display(os.path.split(ipynb_file))\n",
    "# ci.ipynb_to_html(ipynb_file, path_save = path_save, verbose = 1)"
   ]
  },
  {
   "cell_type": "code",
   "execution_count": 6,
   "id": "b3bde81c",
   "metadata": {},
   "outputs": [],
   "source": [
    "# # Example 5 read from repo_path and save to path_save\n",
    "# repo_path = \"ipynb_hana_ml_samples/Python-API/usecase-examples/sapcommunity-hanaml-challenge\"\n",
    "# path_save = 'ipynb_to_html_test/'\n",
    "# ci.ipynb_path_to_html(repo_path, path_save, encoding = None, verbose = 1)"
   ]
  },
  {
   "cell_type": "code",
   "execution_count": 7,
   "id": "c1c518ad",
   "metadata": {},
   "outputs": [
    {
     "name": "stdout",
     "output_type": "stream",
     "text": [
      "Source     : llama_challenge\\ipynb_hana_ml_samples\\Python-API\\usecase-examples\\sapcommunity-hanaml-challenge\\10 Connectivity Check.ipynb\n",
      "Destination: llama_challenge\\ipynb_hana_ml_samples\\Python-API\\usecase-examples\\sapcommunity-hanaml-challenge\\10 Connectivity Check.html\n",
      "File conversion complete and saved!\n",
      "Source     : llama_challenge\\ipynb_hana_ml_samples\\Python-API\\usecase-examples\\sapcommunity-hanaml-challenge\\20 Data upload.ipynb\n",
      "Destination: llama_challenge\\ipynb_hana_ml_samples\\Python-API\\usecase-examples\\sapcommunity-hanaml-challenge\\20 Data upload.html\n",
      "File conversion complete and saved!\n",
      "Source     : llama_challenge\\ipynb_hana_ml_samples\\Python-API\\usecase-examples\\sapcommunity-hanaml-challenge\\PAL Tutorial - Unified Classification Hybrid Gradient Boosting - PredictiveQuality Example.ipynb\n",
      "Destination: llama_challenge\\ipynb_hana_ml_samples\\Python-API\\usecase-examples\\sapcommunity-hanaml-challenge\\PAL Tutorial - Unified Classification Hybrid Gradient Boosting - PredictiveQuality Example.html\n",
      "File conversion complete and saved!\n",
      "Source     : llama_challenge\\ipynb_hana_ml_samples\\Python-API\\usecase-examples\\sapcommunity-hanaml-challenge\\Upload and explore Employee Churn data.ipynb\n",
      "Destination: llama_challenge\\ipynb_hana_ml_samples\\Python-API\\usecase-examples\\sapcommunity-hanaml-challenge\\Upload and explore Employee Churn data.html\n",
      "File conversion complete and saved!\n",
      "List conversion complete! Files: 4\n"
     ]
    }
   ],
   "source": [
    "repo_path1 = \"llama_challenge/ipynb_hana_ml_samples/Python-API/usecase-examples/sapcommunity-hanaml-challenge\"\n",
    "# path_save = 'llama_challenge/ipynb_hana_ml_samples_to_html/'\n",
    "# path_save = 'llama_challenge/ipynb_samples_html/'\n",
    "\n",
    "ci = collect_ipynb()\n",
    "# ci.ipynb_path_to_html(repo_path, path_save, encoding = None, verbose = 1)\n",
    "ci.ipynb_path_to_html(repo_path1, encoding = None, verbose = 1)"
   ]
  },
  {
   "cell_type": "code",
   "execution_count": 8,
   "id": "0c400f5c",
   "metadata": {},
   "outputs": [
    {
     "name": "stdout",
     "output_type": "stream",
     "text": [
      "Source     : llama_challenge\\ipynb_blog\\SAP HANA ML challendge - CHURN  v2.3 max.ipynb\n",
      "Destination: llama_challenge\\ipynb_blog\\SAP HANA ML challendge - CHURN  v2.3 max.html\n",
      "File conversion complete and saved!\n",
      "List conversion complete! Files: 1\n"
     ]
    }
   ],
   "source": [
    "repo_path2 = \"llama_challenge/ipynb_blog/\"\n",
    "# path_save2 = 'llama_challenge/ipynb_blog_to_html/'\n",
    "ci = collect_ipynb()\n",
    "# ci.ipynb_path_to_html(repo_path2, path_save2, encoding = None, verbose = 1)\n",
    "ci.ipynb_path_to_html(repo_path2, encoding = None, verbose = 1)"
   ]
  },
  {
   "cell_type": "code",
   "execution_count": 9,
   "id": "f93d5136",
   "metadata": {},
   "outputs": [],
   "source": [
    "import pathlib\n",
    "\n",
    "def list_ipynb(repo_path, extension):\n",
    "    name_filter = f\"**/*.{extension}\"\n",
    "    repo_path_lib = pathlib.Path(repo_path)\n",
    "    files = list(repo_path_lib.glob(name_filter))\n",
    "    for file in files:\n",
    "        print(file)"
   ]
  },
  {
   "cell_type": "code",
   "execution_count": 10,
   "id": "8bdf6125",
   "metadata": {},
   "outputs": [
    {
     "name": "stdout",
     "output_type": "stream",
     "text": [
      "llama_challenge\\ipynb_hana_ml_samples\\Python-API\\usecase-examples\\sapcommunity-hanaml-challenge\\10 Connectivity Check.html\n",
      "llama_challenge\\ipynb_hana_ml_samples\\Python-API\\usecase-examples\\sapcommunity-hanaml-challenge\\20 Data upload.html\n",
      "llama_challenge\\ipynb_hana_ml_samples\\Python-API\\usecase-examples\\sapcommunity-hanaml-challenge\\PAL Tutorial - Unified Classification Hybrid Gradient Boosting - PredictiveQuality Example.html\n",
      "llama_challenge\\ipynb_hana_ml_samples\\Python-API\\usecase-examples\\sapcommunity-hanaml-challenge\\Upload and explore Employee Churn data.html\n"
     ]
    }
   ],
   "source": [
    "list_ipynb(repo_path1, \"html\")"
   ]
  },
  {
   "cell_type": "code",
   "execution_count": 13,
   "id": "20075512",
   "metadata": {},
   "outputs": [
    {
     "name": "stdout",
     "output_type": "stream",
     "text": [
      "llama_challenge\\ipynb_blog\\SAP HANA ML challendge - CHURN  v2.3 max.html\n"
     ]
    }
   ],
   "source": [
    "# repo_path = 'llama_challenge/ipynb_blog_to_html/'\n",
    "list_ipynb(repo_path2, \"html\")"
   ]
  },
  {
   "cell_type": "code",
   "execution_count": null,
   "id": "9ce25160",
   "metadata": {},
   "outputs": [],
   "source": []
  }
 ],
 "metadata": {
  "kernelspec": {
   "display_name": "Python 3 (ipykernel)",
   "language": "python",
   "name": "python3"
  },
  "language_info": {
   "codemirror_mode": {
    "name": "ipython",
    "version": 3
   },
   "file_extension": ".py",
   "mimetype": "text/x-python",
   "name": "python",
   "nbconvert_exporter": "python",
   "pygments_lexer": "ipython3",
   "version": "3.8.16"
  },
  "varInspector": {
   "cols": {
    "lenName": 16,
    "lenType": 16,
    "lenVar": 40
   },
   "kernels_config": {
    "python": {
     "delete_cmd_postfix": "",
     "delete_cmd_prefix": "del ",
     "library": "var_list.py",
     "varRefreshCmd": "print(var_dic_list())"
    },
    "r": {
     "delete_cmd_postfix": ") ",
     "delete_cmd_prefix": "rm(",
     "library": "var_list.r",
     "varRefreshCmd": "cat(var_dic_list()) "
    }
   },
   "types_to_exclude": [
    "module",
    "function",
    "builtin_function_or_method",
    "instance",
    "_Feature"
   ],
   "window_display": false
  }
 },
 "nbformat": 4,
 "nbformat_minor": 5
}
