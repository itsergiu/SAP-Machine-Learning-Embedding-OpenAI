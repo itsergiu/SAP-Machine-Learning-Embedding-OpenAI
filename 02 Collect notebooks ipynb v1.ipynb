{
 "cells": [
  {
   "cell_type": "markdown",
   "id": "621e9b8c",
   "metadata": {},
   "source": [
    "### SAP Machine Learning Embedding in OpenAI - step 02\n",
    "##### Author: Sergiu Iatco. May, 2023\n",
    "https://people.sap.com/iatco.sergiu <br>\n",
    "https://www.linkedin.com/in/sergiuiatco/ <br>"
   ]
  },
  {
   "cell_type": "markdown",
   "id": "af885d79",
   "metadata": {},
   "source": [
    "https://github.com/git-guides/install-git <br>\n",
    "https://github.com/itsergiu/sapcommunity-hanaml-challenge <br>\n",
    "https://github.com/SAP-samples/hana-ml-samples/ <br>"
   ]
  },
  {
   "cell_type": "code",
   "execution_count": 2,
   "id": "b096e2c7",
   "metadata": {},
   "outputs": [],
   "source": [
    "# !git clone $REPO_URL $DOCS_FOLDER"
   ]
  },
  {
   "cell_type": "code",
   "execution_count": 3,
   "id": "b8d9370f",
   "metadata": {},
   "outputs": [
    {
     "name": "stderr",
     "output_type": "stream",
     "text": [
      "Cloning into 'llama_challenge/ipynb_blog'...\n"
     ]
    }
   ],
   "source": [
    "REPO_URL = \"https://github.com/itsergiu/sapcommunity-hanaml-challenge\"\n",
    "DOCS_FOLDER = \"llama_challenge/ipynb_blog\"\n",
    "!git clone $REPO_URL $DOCS_FOLDER"
   ]
  },
  {
   "cell_type": "code",
   "execution_count": 4,
   "id": "d7511571",
   "metadata": {},
   "outputs": [
    {
     "name": "stderr",
     "output_type": "stream",
     "text": [
      "Cloning into 'llama_challenge/ipynb_hana_ml_samples'...\n",
      "Updating files:   8% (40/492)\n",
      "Updating files:   9% (45/492)\n",
      "Updating files:  10% (50/492)\n",
      "Updating files:  11% (55/492)\n",
      "Updating files:  12% (60/492)\n",
      "Updating files:  13% (64/492)\n",
      "Updating files:  13% (67/492)\n",
      "Updating files:  14% (69/492)\n",
      "Updating files:  15% (74/492)\n",
      "Updating files:  16% (79/492)\n",
      "Updating files:  17% (84/492)\n",
      "Updating files:  18% (89/492)\n",
      "Updating files:  19% (94/492)\n",
      "Updating files:  20% (99/492)\n",
      "Updating files:  21% (104/492)\n",
      "Updating files:  22% (109/492)\n",
      "Updating files:  23% (114/492)\n",
      "Updating files:  24% (119/492)\n",
      "Updating files:  25% (123/492)\n",
      "Updating files:  25% (124/492)\n",
      "Updating files:  26% (128/492)\n",
      "Updating files:  27% (133/492)\n",
      "Updating files:  28% (138/492)\n",
      "Updating files:  29% (143/492)\n",
      "Updating files:  30% (148/492)\n",
      "Updating files:  31% (153/492)\n",
      "Updating files:  32% (158/492)\n",
      "Updating files:  33% (163/492)\n",
      "Updating files:  34% (168/492)\n",
      "Updating files:  35% (173/492)\n",
      "Updating files:  36% (178/492)\n",
      "Updating files:  37% (183/492)\n",
      "Updating files:  38% (187/492)\n",
      "Updating files:  38% (189/492)\n",
      "Updating files:  39% (192/492)\n",
      "Updating files:  40% (197/492)\n",
      "Updating files:  41% (202/492)\n",
      "Updating files:  42% (207/492)\n",
      "Updating files:  43% (212/492)\n",
      "Updating files:  44% (217/492)\n",
      "Updating files:  45% (222/492)\n",
      "Updating files:  46% (227/492)\n",
      "Updating files:  47% (232/492)\n",
      "Updating files:  48% (237/492)\n",
      "Updating files:  49% (242/492)\n",
      "Updating files:  50% (246/492)\n",
      "Updating files:  51% (251/492)\n",
      "Updating files:  51% (255/492)\n",
      "Updating files:  52% (256/492)\n",
      "Updating files:  53% (261/492)\n",
      "Updating files:  54% (266/492)\n",
      "Updating files:  55% (271/492)\n",
      "Updating files:  56% (276/492)\n",
      "Updating files:  57% (281/492)\n",
      "Updating files:  58% (286/492)\n",
      "Updating files:  59% (291/492)\n",
      "Updating files:  60% (296/492)\n",
      "Updating files:  61% (301/492)\n",
      "Updating files:  62% (306/492)\n",
      "Updating files:  63% (310/492)\n",
      "Updating files:  63% (313/492)\n",
      "Updating files:  64% (315/492)\n",
      "Updating files:  65% (320/492)\n",
      "Updating files:  66% (325/492)\n",
      "Updating files:  67% (330/492)\n",
      "Updating files:  68% (335/492)\n",
      "Updating files:  69% (340/492)\n",
      "Updating files:  70% (345/492)\n",
      "Updating files:  71% (350/492)\n",
      "Updating files:  71% (352/492)\n",
      "Updating files:  72% (355/492)\n",
      "Updating files:  73% (360/492)\n",
      "Updating files:  74% (365/492)\n",
      "Updating files:  75% (369/492)\n",
      "Updating files:  76% (374/492)\n",
      "Updating files:  77% (379/492)\n",
      "Updating files:  78% (384/492)\n",
      "Updating files:  79% (389/492)\n",
      "Updating files:  80% (394/492)\n",
      "Updating files:  81% (399/492)\n",
      "Updating files:  82% (404/492)\n",
      "Updating files:  83% (409/492)\n",
      "Updating files:  84% (414/492)\n",
      "Updating files:  85% (419/492)\n",
      "Updating files:  86% (424/492)\n",
      "Updating files:  87% (429/492)\n",
      "Updating files:  87% (430/492)\n",
      "Updating files:  88% (433/492)\n",
      "Updating files:  89% (438/492)\n",
      "Updating files:  90% (443/492)\n",
      "Updating files:  90% (447/492)\n",
      "Updating files:  91% (448/492)\n",
      "Updating files:  92% (453/492)\n",
      "Updating files:  93% (458/492)\n",
      "Updating files:  94% (463/492)\n",
      "Updating files:  95% (468/492)\n",
      "Updating files:  95% (472/492)\n",
      "Updating files:  96% (473/492)\n",
      "Updating files:  97% (478/492)\n",
      "Updating files:  98% (483/492)\n",
      "Updating files:  99% (488/492)\n",
      "Updating files: 100% (492/492)\n",
      "Updating files: 100% (492/492), done.\n"
     ]
    }
   ],
   "source": [
    "# https://github.com/SAP-samples/hana-ml-samples\n",
    "# https://github.com/SAP-samples/hana-ml-samples/tree/main/Python-API/usecase-examples/sapcommunity-hanaml-challenge\n",
    "# folder = \"Python-API\\usecase-examples\\sapcommunity-hanaml-challenge\"\n",
    "REPO_URL = \"https://github.com/SAP-samples/hana-ml-samples\"\n",
    "DOCS_FOLDER = \"llama_challenge/ipynb_hana_ml_samples\"\n",
    "!git clone $REPO_URL $DOCS_FOLDER"
   ]
  },
  {
   "cell_type": "code",
   "execution_count": 5,
   "id": "afa43622",
   "metadata": {},
   "outputs": [],
   "source": [
    "import pathlib\n",
    "\n",
    "def list_ipynb(repo_path, extension):\n",
    "    name_filter = f\"**/*.{extension}\"\n",
    "    repo_path_lib = pathlib.Path(repo_path)\n",
    "    files = list(repo_path_lib.glob(name_filter))\n",
    "    for file in files:\n",
    "        print(file)"
   ]
  },
  {
   "cell_type": "code",
   "execution_count": 6,
   "id": "beb56572",
   "metadata": {},
   "outputs": [
    {
     "name": "stdout",
     "output_type": "stream",
     "text": [
      "ipynb_blog\\SAP HANA ML challendge - CHURN  v2.3 max.ipynb\n"
     ]
    }
   ],
   "source": [
    "repo_path = \"ipynb_blog\"\n",
    "list_ipynb(repo_path, \"ipynb\")"
   ]
  },
  {
   "cell_type": "code",
   "execution_count": 7,
   "id": "750b6549",
   "metadata": {},
   "outputs": [
    {
     "name": "stdout",
     "output_type": "stream",
     "text": [
      "ipynb_hana_ml_samples\\Python-API\\usecase-examples\\sapcommunity-hanaml-challenge\\10 Connectivity Check.ipynb\n",
      "ipynb_hana_ml_samples\\Python-API\\usecase-examples\\sapcommunity-hanaml-challenge\\20 Data upload.ipynb\n",
      "ipynb_hana_ml_samples\\Python-API\\usecase-examples\\sapcommunity-hanaml-challenge\\PAL Tutorial - Unified Classification Hybrid Gradient Boosting - PredictiveQuality Example.ipynb\n",
      "ipynb_hana_ml_samples\\Python-API\\usecase-examples\\sapcommunity-hanaml-challenge\\Upload and explore Employee Churn data.ipynb\n"
     ]
    }
   ],
   "source": [
    "repo_path = \"ipynb_hana_ml_samples/Python-API/usecase-examples/sapcommunity-hanaml-challenge\"\n",
    "list_ipynb(repo_path, \"ipynb\")"
   ]
  },
  {
   "cell_type": "code",
   "execution_count": null,
   "id": "a66ccba2",
   "metadata": {},
   "outputs": [],
   "source": []
  }
 ],
 "metadata": {
  "kernelspec": {
   "display_name": "Python 3 (ipykernel)",
   "language": "python",
   "name": "python3"
  },
  "language_info": {
   "codemirror_mode": {
    "name": "ipython",
    "version": 3
   },
   "file_extension": ".py",
   "mimetype": "text/x-python",
   "name": "python",
   "nbconvert_exporter": "python",
   "pygments_lexer": "ipython3",
   "version": "3.8.16"
  }
 },
 "nbformat": 4,
 "nbformat_minor": 5
}
