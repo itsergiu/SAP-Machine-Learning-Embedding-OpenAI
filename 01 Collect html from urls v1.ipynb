{
 "cells": [
  {
   "cell_type": "markdown",
   "id": "c226d2a8",
   "metadata": {},
   "source": [
    "### SAP Machine Learning Embedding in OpenAI - step 01\n",
    "##### Author: Sergiu Iatco. May, 2023\n",
    "https://people.sap.com/iatco.sergiu <br>\n",
    "https://www.linkedin.com/in/sergiuiatco/ <br>"
   ]
  },
  {
   "cell_type": "markdown",
   "id": "59ec94cc",
   "metadata": {},
   "source": [
    "#### Collected URLs.\n",
    "Blogs:<br>\n",
    "https://blogs.sap.com/2022/11/07/sap-community-call-sap-hana-cloud-machine-learning-challenge-i-quit-how-to-prevent-employee-churn/ <br>\n",
    "https://blogs.sap.com/2022/11/28/i-quit-how-to-predict-employee-churn-sap-hana-cloud-machine-learning-challenge/ <br>\n",
    "https://blogs.sap.com/2022/12/22/sap-hana-cloud-machine-learning-challenge-2022-the-winners-are/ <br>\n",
    "\n",
    "https://blogs.sap.com/2023/01/09/sap-hana-cloud-machine-learning-challenge-i-quit-understanding-metrics/ <br>\n",
    "\n",
    "Documentation:<br>\n",
    "https://help.sap.com/doc/1d0ebfe5e8dd44d09606814d83308d4b/2.0.04/en-US/hana_ml.dataframe.html <br>\n",
    "https://help.sap.com/doc/1d0ebfe5e8dd44d09606814d83308d4b/2.0.07/en-US/pal/algorithms/hana_ml.algorithms.pal.trees.HybridGradientBoostingClassifier.html <br>"
   ]
  },
  {
   "cell_type": "code",
   "execution_count": 1,
   "id": "1e340775",
   "metadata": {},
   "outputs": [],
   "source": [
    "import urllib.request\n",
    "import os\n",
    "\n",
    "class collect_html():\n",
    "    def __init__(self):\n",
    "        pass\n",
    "\n",
    "    def read_save_html(self, url, path_save = None, filename = None, mode = 0):\n",
    "        # mode: 0 - save, 1 - content, 2 - save and content\n",
    "        \n",
    "        response = urllib.request.urlopen(url)\n",
    "        html_file = response.read()\n",
    "\n",
    "        if mode == 0 or mode == 2:\n",
    "            if filename==None:\n",
    "                filename = os.path.basename(url)\n",
    "\n",
    "            if path_save!=None:\n",
    "                path_with_filename = os.path.join(path_save, filename)\n",
    "            else:\n",
    "                path_with_filename = filename\n",
    "\n",
    "            if path_save!=None and not os.path.exists(path_save):\n",
    "                os.makedirs(path_save)\n",
    "                \n",
    "            with open(path_with_filename, \"wb\") as file:\n",
    "                file.write(html_file)\n",
    "\n",
    "            print(f\"Destination {path_with_filename}\")\n",
    "            print(f\"Extraction and save completed!\")\n",
    "        \n",
    "        if mode == 1 or mode == 2:\n",
    "            return html_file"
   ]
  },
  {
   "cell_type": "code",
   "execution_count": 2,
   "id": "03f25792",
   "metadata": {},
   "outputs": [],
   "source": [
    "# # Example 1 # save in same folder with same name\n",
    "# url = \"https://help.sap.com/doc/1d0ebfe5e8dd44d09606814d83308d4b/2.0.04/en-US/hana_ml.dataframe.html\"\n",
    "# dc = collect_html()\n",
    "# dc.read_save_html(url)"
   ]
  },
  {
   "cell_type": "code",
   "execution_count": 3,
   "id": "03023a57",
   "metadata": {},
   "outputs": [],
   "source": [
    "# # Example 2 # save in same folder with filename\n",
    "# url = \"https://help.sap.com/doc/1d0ebfe5e8dd44d09606814d83308d4b/2.0.04/en-US/hana_ml.dataframe.html\"\n",
    "# dc = collect_html()\n",
    "# dc.read_save_html(url, filename = 'test2.html')"
   ]
  },
  {
   "cell_type": "code",
   "execution_count": 4,
   "id": "de0c8ba8",
   "metadata": {},
   "outputs": [],
   "source": [
    "# # Example 3 # save in same folder with filename and path\n",
    "# url = \"https://help.sap.com/doc/1d0ebfe5e8dd44d09606814d83308d4b/2.0.04/en-US/hana_ml.dataframe.html\"\n",
    "# dc = collect_html()\n",
    "# dc.read_save_html(url, path_save = 'collect/', filename = 'test3.html')"
   ]
  },
  {
   "cell_type": "code",
   "execution_count": 5,
   "id": "96f728c6",
   "metadata": {},
   "outputs": [],
   "source": [
    "# # Example 4 # save in same folder with same name and path\n",
    "# url = \"https://help.sap.com/doc/1d0ebfe5e8dd44d09606814d83308d4b/2.0.04/en-US/hana_ml.dataframe.html\"\n",
    "# dc = collect_html()\n",
    "# dc.read_save_html(url, path_save = 'collect/')"
   ]
  },
  {
   "cell_type": "code",
   "execution_count": 6,
   "id": "f1955980",
   "metadata": {},
   "outputs": [
    {
     "name": "stdout",
     "output_type": "stream",
     "text": [
      "Destination llama_challenge/html_challenge\\understanding_metrics_blog.html\n",
      "Extraction and save completed!\n"
     ]
    }
   ],
   "source": [
    "url = \"https://blogs.sap.com/2023/01/09/sap-hana-cloud-machine-learning-challenge-i-quit-understanding-metrics/\"\n",
    "path_save = 'llama_challenge/html_challenge'\n",
    "filename = 'understanding_metrics_blog.html'\n",
    "dc = collect_html()\n",
    "dc.read_save_html(url, path_save = path_save, filename = filename)"
   ]
  },
  {
   "cell_type": "code",
   "execution_count": 7,
   "id": "7ab48bc8",
   "metadata": {},
   "outputs": [
    {
     "name": "stdout",
     "output_type": "stream",
     "text": [
      "Destination llama_challenge/html_challenge\\challenge_20221107.html\n",
      "Extraction and save completed!\n"
     ]
    }
   ],
   "source": [
    "url = \"https://blogs.sap.com/2022/11/07/sap-community-call-sap-hana-cloud-machine-learning-challenge-i-quit-how-to-prevent-employee-churn/\"\n",
    "# path_save\n",
    "filename = \"challenge_20221107.html\"\n",
    "dc = collect_html()\n",
    "dc.read_save_html(url, path_save = path_save, filename = filename)"
   ]
  },
  {
   "cell_type": "code",
   "execution_count": 8,
   "id": "fe642101",
   "metadata": {},
   "outputs": [
    {
     "name": "stdout",
     "output_type": "stream",
     "text": [
      "Destination llama_challenge/html_challenge\\challenge_20221128.html\n",
      "Extraction and save completed!\n"
     ]
    }
   ],
   "source": [
    "url = \"https://blogs.sap.com/2022/11/28/i-quit-how-to-predict-employee-churn-sap-hana-cloud-machine-learning-challenge/\"\n",
    "# path_save\n",
    "filename = \"challenge_20221128.html\"\n",
    "dc = collect_html()\n",
    "dc.read_save_html(url, path_save = path_save, filename = filename)"
   ]
  },
  {
   "cell_type": "code",
   "execution_count": 9,
   "id": "0dc684f5",
   "metadata": {},
   "outputs": [
    {
     "name": "stdout",
     "output_type": "stream",
     "text": [
      "Destination llama_challenge/html_challenge\\challenge_20221222.html\n",
      "Extraction and save completed!\n"
     ]
    }
   ],
   "source": [
    "url = \"https://blogs.sap.com/2022/12/22/sap-hana-cloud-machine-learning-challenge-2022-the-winners-are/\"\n",
    "# path_save\n",
    "filename = \"challenge_20221222.html\"\n",
    "dc = collect_html()\n",
    "dc.read_save_html(url, path_save = path_save, filename = filename)"
   ]
  },
  {
   "cell_type": "code",
   "execution_count": 10,
   "id": "6eab939b",
   "metadata": {},
   "outputs": [
    {
     "name": "stdout",
     "output_type": "stream",
     "text": [
      "Destination llama_challenge/html_challenge\\hana_ml.dataframe.html\n",
      "Extraction and save completed!\n"
     ]
    }
   ],
   "source": [
    "url = \"https://help.sap.com/doc/1d0ebfe5e8dd44d09606814d83308d4b/2.0.04/en-US/hana_ml.dataframe.html\"\n",
    "dc = collect_html()\n",
    "dc.read_save_html(url, path_save = path_save)"
   ]
  },
  {
   "cell_type": "code",
   "execution_count": 11,
   "id": "e6cc1f05",
   "metadata": {},
   "outputs": [
    {
     "name": "stdout",
     "output_type": "stream",
     "text": [
      "Destination llama_challenge/html_challenge\\hana_ml.algorithms.pal.trees.HybridGradientBoostingClassifier.html\n",
      "Extraction and save completed!\n"
     ]
    }
   ],
   "source": [
    "url = \"https://help.sap.com/doc/1d0ebfe5e8dd44d09606814d83308d4b/2.0.07/en-US/pal/algorithms/hana_ml.algorithms.pal.trees.HybridGradientBoostingClassifier.html\"\n",
    "dc = collect_html()\n",
    "dc.read_save_html(url, path_save = path_save)"
   ]
  },
  {
   "cell_type": "code",
   "execution_count": 12,
   "id": "f498c586",
   "metadata": {},
   "outputs": [],
   "source": [
    "import pathlib\n",
    "\n",
    "def list_ipynb(repo_path, extension):\n",
    "    name_filter = f\"**/*.{extension}\"\n",
    "    repo_path_lib = pathlib.Path(repo_path)\n",
    "    files = list(repo_path_lib.glob(name_filter))\n",
    "    for file in files:\n",
    "        print(file)"
   ]
  },
  {
   "cell_type": "code",
   "execution_count": 13,
   "id": "1104026e",
   "metadata": {},
   "outputs": [
    {
     "name": "stdout",
     "output_type": "stream",
     "text": [
      "llama_challenge\\html_challenge\\understanding_metrics_blog.html\n",
      "llama_challenge\\html_challenge\\challenge_20221107.html\n",
      "llama_challenge\\html_challenge\\challenge_20221128.html\n",
      "llama_challenge\\html_challenge\\challenge_20221222.html\n",
      "llama_challenge\\html_challenge\\hana_ml.dataframe.html\n",
      "llama_challenge\\html_challenge\\hana_ml.algorithms.pal.trees.HybridGradientBoostingClassifier.html\n"
     ]
    }
   ],
   "source": [
    "# List html files\n",
    "repo_path = path_save\n",
    "list_ipynb(repo_path, \"html\")"
   ]
  },
  {
   "cell_type": "code",
   "execution_count": null,
   "id": "f2ccbda8",
   "metadata": {},
   "outputs": [],
   "source": []
  }
 ],
 "metadata": {
  "kernelspec": {
   "display_name": "Python 3 (ipykernel)",
   "language": "python",
   "name": "python3"
  },
  "language_info": {
   "codemirror_mode": {
    "name": "ipython",
    "version": 3
   },
   "file_extension": ".py",
   "mimetype": "text/x-python",
   "name": "python",
   "nbconvert_exporter": "python",
   "pygments_lexer": "ipython3",
   "version": "3.8.16"
  },
  "varInspector": {
   "cols": {
    "lenName": 16,
    "lenType": 16,
    "lenVar": 40
   },
   "kernels_config": {
    "python": {
     "delete_cmd_postfix": "",
     "delete_cmd_prefix": "del ",
     "library": "var_list.py",
     "varRefreshCmd": "print(var_dic_list())"
    },
    "r": {
     "delete_cmd_postfix": ") ",
     "delete_cmd_prefix": "rm(",
     "library": "var_list.r",
     "varRefreshCmd": "cat(var_dic_list()) "
    }
   },
   "types_to_exclude": [
    "module",
    "function",
    "builtin_function_or_method",
    "instance",
    "_Feature"
   ],
   "window_display": false
  }
 },
 "nbformat": 4,
 "nbformat_minor": 5
}
